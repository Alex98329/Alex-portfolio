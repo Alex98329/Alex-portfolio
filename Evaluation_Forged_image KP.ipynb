{
  "nbformat": 4,
  "nbformat_minor": 0,
  "metadata": {
    "colab": {
      "provenance": []
    },
    "kernelspec": {
      "name": "python3",
      "display_name": "Python 3"
    },
    "language_info": {
      "name": "python"
    }
  },
  "cells": [
    {
      "cell_type": "code",
      "source": [
        "import cv2\n",
        "import matplotlib.pyplot as plt\n",
        "import numpy as np\n",
        "import os\n",
        "import json\n",
        "import cv2\n",
        "from sklearn.cluster import DBSCAN\n",
        "from sklearn.metrics import precision_score, recall_score, f1_score"
      ],
      "metadata": {
        "id": "H2miRfjh4SLR"
      },
      "execution_count": 1,
      "outputs": []
    },
    {
      "cell_type": "code",
      "source": [
        "from google.colab import drive\n",
        "drive.mount('/content/drive')"
      ],
      "metadata": {
        "colab": {
          "base_uri": "https://localhost:8080/"
        },
        "id": "mVULkv806REb",
        "outputId": "455fcf92-d185-4eed-9119-359c1d1dd70b"
      },
      "execution_count": 2,
      "outputs": [
        {
          "output_type": "stream",
          "name": "stdout",
          "text": [
            "Mounted at /content/drive\n"
          ]
        }
      ]
    },
    {
      "cell_type": "markdown",
      "source": [
        "Load binary mask and Ground Truth to be evaluated."
      ],
      "metadata": {
        "id": "SY8EyIGdLYcJ"
      }
    },
    {
      "cell_type": "code",
      "source": [
        "# Load the saved binary mask\n",
        "mask_path = \"/content/drive/MyDrive/CoMoFoD_small_v2/binary_mask/001_bin.png\"\n",
        "loaded_mask = cv2.imread(mask_path, cv2.IMREAD_GRAYSCALE)\n",
        "\n",
        "dilate_kernel=(5, 5)\n",
        "dilate_iter=2\n",
        "\n",
        "# Dilation kernel\n",
        "kernel = cv2.getStructuringElement(cv2.MORPH_RECT, dilate_kernel)\n",
        "# Apply morphological dilation to predicted mask\n",
        "pred_mask = cv2.dilate(loaded_mask, kernel, iterations=dilate_iter)\n",
        "# Optional: Convert to binary (0 or 1) if needed for logic\n",
        "binary_mask = (loaded_mask > 128).astype(np.uint8)\n",
        "\n",
        "# Visualize\n",
        "plt.imshow(loaded_mask, cmap='gray')\n",
        "plt.title(\"Loaded Binary Mask\")\n",
        "plt.axis('off')\n",
        "plt.show()"
      ],
      "metadata": {
        "colab": {
          "base_uri": "https://localhost:8080/",
          "height": 428
        },
        "id": "qhYSjZJIeZaQ",
        "outputId": "7f2de6b3-cc24-4303-efbd-d134f91fffee"
      },
      "execution_count": 3,
      "outputs": [
        {
          "output_type": "display_data",
          "data": {
            "text/plain": [
              "<Figure size 640x480 with 1 Axes>"
            ],
            "image/png": "[encoded data removed]"
          },
          "metadata": {}
        }
      ]
    },
    {
      "cell_type": "markdown",
      "source": [
        "Function to evaluate Binary mask against Ground Truth."
      ],
      "metadata": {
        "id": "LeG4BKlSLi9i"
      }
    },
    {
      "cell_type": "code",
      "source": [
        "def evaluate_cmfd(pred_dir, gt_dir, mask_size=(512, 512), dilate_kernel=(5, 5), dilate_iter=2):\n",
        "    \"\"\"\n",
        "    Evaluate CMFD binary masks against ground truth, with optional dilation.\n",
        "\n",
        "    Parameters:\n",
        "    - pred_dir: directory with predicted masks (001_bin.png, etc.)\n",
        "    - gt_dir: directory with ground truth masks (001_B.png, etc.)\n",
        "    - mask_size: size to resize masks to, default (512, 512)\n",
        "    - dilate_kernel: tuple for dilation kernel size (e.g., (5,5))\n",
        "    - dilate_iter: how many times to apply dilation\n",
        "\n",
        "    Returns:\n",
        "    - avg_precision, avg_recall, avg_f1, avg_iou\n",
        "    \"\"\"\n",
        "    precision_list = []\n",
        "    recall_list = []\n",
        "    f1_list = []\n",
        "    iou_list = []\n",
        "\n",
        "    # Dilation kernel\n",
        "    kernel = cv2.getStructuringElement(cv2.MORPH_RECT, dilate_kernel)\n",
        "\n",
        "    for i in range(1, 201):  # Adjust range as needed\n",
        "        file_id = f\"{i:03d}\"\n",
        "        pred_file = os.path.join(pred_dir, f\"{file_id}_bin.png\")\n",
        "        gt_file = os.path.join(gt_dir, f\"{file_id}_B.png\")\n",
        "\n",
        "        if not os.path.exists(pred_file):\n",
        "            print(f\"Missing prediction: {pred_file}\")\n",
        "            continue\n",
        "        if not os.path.exists(gt_file):\n",
        "            print(f\"Missing ground truth: {gt_file}\")\n",
        "            continue\n",
        "\n",
        "        # Load masks\n",
        "        pred_mask = cv2.imread(pred_file, cv2.IMREAD_GRAYSCALE)\n",
        "        gt_mask = cv2.imread(gt_file, cv2.IMREAD_GRAYSCALE)\n",
        "\n",
        "        # Resize if needed\n",
        "        if pred_mask.shape != mask_size:\n",
        "            pred_mask = cv2.resize(pred_mask, mask_size, interpolation=cv2.INTER_NEAREST)\n",
        "        if gt_mask.shape != mask_size:\n",
        "            gt_mask = cv2.resize(gt_mask, mask_size, interpolation=cv2.INTER_NEAREST)\n",
        "\n",
        "        # Threshold masks\n",
        "        pred_mask = (pred_mask > 0).astype(np.uint8)\n",
        "        gt_mask = (gt_mask > 128).astype(np.uint8)\n",
        "\n",
        "        # Apply morphological dilation to predicted mask\n",
        "        pred_mask = cv2.dilate(pred_mask, kernel, iterations=dilate_iter)\n",
        "\n",
        "        # Flatten\n",
        "        pred_flat = pred_mask.flatten()\n",
        "        gt_flat = gt_mask.flatten()\n",
        "\n",
        "        # Metrics\n",
        "        precision = precision_score(gt_flat, pred_flat, zero_division=0)\n",
        "        recall = recall_score(gt_flat, pred_flat, zero_division=0)\n",
        "        f1 = f1_score(gt_flat, pred_flat, zero_division=0)\n",
        "        intersection = np.logical_and(gt_mask, pred_mask).sum()\n",
        "        union = np.logical_or(gt_mask, pred_mask).sum()\n",
        "        iou = intersection / union if union != 0 else 0\n",
        "\n",
        "        precision_list.append(precision)\n",
        "        recall_list.append(recall)\n",
        "        f1_list.append(f1)\n",
        "        iou_list.append(iou)\n",
        "\n",
        "    # Averages\n",
        "    avg_precision = np.mean(precision_list)\n",
        "    avg_recall = np.mean(recall_list)\n",
        "    avg_f1 = np.mean(f1_list)\n",
        "    avg_iou = np.mean(iou_list)\n",
        "\n",
        "    print(\"\\n=== Evaluation Results with Dilation ===\")\n",
        "    print(f\"Average Precision: {avg_precision:.3f}\")\n",
        "    print(f\"Average Recall:    {avg_recall:.3f}\")\n",
        "    print(f\"Average F1 Score:  {avg_f1:.3f}\")\n",
        "    print(f\"Average IoU:       {avg_iou:.3f}\")\n",
        "\n",
        "    # After avg_precision, avg_recall, etc. are printed...\n",
        "\n",
        "    # --- Plot per-image recall histogram ---\n",
        "    bins = np.linspace(0, 1, 11)  # 0.0 to 1.0 in steps of 0.1\n",
        "    bin_labels = [f\"{round(bins[i], 1)}-{round(bins[i+1], 1)}\" for i in range(len(bins)-1)]\n",
        "    recall_hist, _ = np.histogram(f1_list, bins=bins)\n",
        "\n",
        "    x = np.arange(len(bin_labels))\n",
        "\n",
        "    plt.figure(figsize=(10, 6))\n",
        "    plt.bar(x, recall_hist, width=0.6, color='skyblue')\n",
        "    plt.xticks(x, bin_labels, rotation=45)\n",
        "    plt.xlabel('F1 Score')\n",
        "    plt.ylabel('Number of Images')\n",
        "    plt.title('Distribution of Per-Image IoU')\n",
        "    plt.grid(axis='y')\n",
        "    plt.tight_layout()\n",
        "    plt.show()\n",
        "\n",
        "    return avg_precision, avg_recall, avg_f1, avg_iou\n"
      ],
      "metadata": {
        "id": "gJpR_Hy4h9a3"
      },
      "execution_count": 23,
      "outputs": []
    },
    {
      "cell_type": "code",
      "source": [
        "# === Set paths ===\n",
        "pred_dir = \"/content/drive/MyDrive/CoMoFoD_small_v2/binary_mask\"  # your predictions\n",
        "gt_dir = \"/content/drive/MyDrive/CoMoFoD_small_v2\"  # ground truth masks\n",
        "\n",
        "# === Run evaluation ===\n",
        "evaluate_cmfd(pred_dir, gt_dir)\n",
        "\n"
      ],
      "metadata": {
        "colab": {
          "base_uri": "https://localhost:8080/",
          "height": 1000
        },
        "id": "3OiIlT402h9b",
        "outputId": "4c5c8a70-8923-471d-e977-e75365bca0a4"
      },
      "execution_count": 24,
      "outputs": [
        {
          "output_type": "stream",
          "name": "stdout",
          "text": [
            "Missing prediction: /content/drive/MyDrive/CoMoFoD_small_v2/binary_mask/043_bin.png\n",
            "Missing prediction: /content/drive/MyDrive/CoMoFoD_small_v2/binary_mask/044_bin.png\n",
            "Missing prediction: /content/drive/MyDrive/CoMoFoD_small_v2/binary_mask/045_bin.png\n",
            "Missing prediction: /content/drive/MyDrive/CoMoFoD_small_v2/binary_mask/048_bin.png\n",
            "Missing prediction: /content/drive/MyDrive/CoMoFoD_small_v2/binary_mask/049_bin.png\n",
            "Missing prediction: /content/drive/MyDrive/CoMoFoD_small_v2/binary_mask/050_bin.png\n",
            "Missing prediction: /content/drive/MyDrive/CoMoFoD_small_v2/binary_mask/051_bin.png\n",
            "Missing prediction: /content/drive/MyDrive/CoMoFoD_small_v2/binary_mask/052_bin.png\n",
            "Missing prediction: /content/drive/MyDrive/CoMoFoD_small_v2/binary_mask/053_bin.png\n",
            "Missing prediction: /content/drive/MyDrive/CoMoFoD_small_v2/binary_mask/054_bin.png\n",
            "Missing prediction: /content/drive/MyDrive/CoMoFoD_small_v2/binary_mask/055_bin.png\n",
            "Missing prediction: /content/drive/MyDrive/CoMoFoD_small_v2/binary_mask/056_bin.png\n",
            "Missing prediction: /content/drive/MyDrive/CoMoFoD_small_v2/binary_mask/057_bin.png\n",
            "Missing prediction: /content/drive/MyDrive/CoMoFoD_small_v2/binary_mask/058_bin.png\n",
            "Missing prediction: /content/drive/MyDrive/CoMoFoD_small_v2/binary_mask/059_bin.png\n",
            "Missing prediction: /content/drive/MyDrive/CoMoFoD_small_v2/binary_mask/060_bin.png\n",
            "Missing prediction: /content/drive/MyDrive/CoMoFoD_small_v2/binary_mask/061_bin.png\n",
            "Missing prediction: /content/drive/MyDrive/CoMoFoD_small_v2/binary_mask/062_bin.png\n",
            "Missing prediction: /content/drive/MyDrive/CoMoFoD_small_v2/binary_mask/064_bin.png\n",
            "Missing prediction: /content/drive/MyDrive/CoMoFoD_small_v2/binary_mask/065_bin.png\n",
            "Missing prediction: /content/drive/MyDrive/CoMoFoD_small_v2/binary_mask/066_bin.png\n",
            "Missing prediction: /content/drive/MyDrive/CoMoFoD_small_v2/binary_mask/069_bin.png\n",
            "Missing prediction: /content/drive/MyDrive/CoMoFoD_small_v2/binary_mask/070_bin.png\n",
            "Missing prediction: /content/drive/MyDrive/CoMoFoD_small_v2/binary_mask/072_bin.png\n",
            "Missing prediction: /content/drive/MyDrive/CoMoFoD_small_v2/binary_mask/073_bin.png\n",
            "Missing prediction: /content/drive/MyDrive/CoMoFoD_small_v2/binary_mask/074_bin.png\n",
            "Missing prediction: /content/drive/MyDrive/CoMoFoD_small_v2/binary_mask/075_bin.png\n",
            "Missing prediction: /content/drive/MyDrive/CoMoFoD_small_v2/binary_mask/076_bin.png\n",
            "Missing prediction: /content/drive/MyDrive/CoMoFoD_small_v2/binary_mask/077_bin.png\n",
            "Missing prediction: /content/drive/MyDrive/CoMoFoD_small_v2/binary_mask/078_bin.png\n",
            "Missing prediction: /content/drive/MyDrive/CoMoFoD_small_v2/binary_mask/079_bin.png\n",
            "Missing prediction: /content/drive/MyDrive/CoMoFoD_small_v2/binary_mask/080_bin.png\n",
            "\n",
            "=== Evaluation Results with Dilation ===\n",
            "Average Precision: 0.751\n",
            "Average Recall:    0.719\n",
            "Average F1 Score:  0.706\n",
            "Average IoU:       0.613\n"
          ]
        },
        {
          "output_type": "display_data",
          "data": {
            "text/plain": [
              "<Figure size 1000x600 with 1 Axes>"
            ],
            "image/png": "[encoded data removed]"
          },
          "metadata": {}
        },
        {
          "output_type": "execute_result",
          "data": {
            "text/plain": [
              "(np.float64(0.7505811222004282),\n",
              " np.float64(0.7187888205598659),\n",
              " np.float64(0.7060624927035876),\n",
              " np.float64(0.6125794979865695))"
            ]
          },
          "metadata": {},
          "execution_count": 24
        }
      ]
    }
  ]
}