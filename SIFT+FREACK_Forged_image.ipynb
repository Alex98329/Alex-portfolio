{
  "cells": [
    {
      "cell_type": "code",
      "execution_count": null,
      "metadata": {
        "colab": {
          "base_uri": "https://localhost:8080/"
        },
        "id": "59l7L2mQ2-IA",
        "outputId": "d763328d-8d3d-49dd-e660-380b0467cac4"
      },
      "outputs": [
        {
          "name": "stdout",
          "output_type": "stream",
          "text": [
            "Requirement already satisfied: opencv-contrib-python in /usr/local/lib/python3.11/dist-packages (4.11.0.86)\n",
            "Requirement already satisfied: numpy>=1.21.2 in /usr/local/lib/python3.11/dist-packages (from opencv-contrib-python) (2.0.2)\n"
          ]
        }
      ],
      "source": [
        "!pip install --upgrade opencv-contrib-python"
      ]
    },
    {
      "cell_type": "code",
      "execution_count": null,
      "metadata": {
        "colab": {
          "base_uri": "https://localhost:8080/"
        },
        "id": "6AZLj7ch3r3V",
        "outputId": "ba80582f-d14b-4547-83db-9124dd197169"
      },
      "outputs": [
        {
          "name": "stdout",
          "output_type": "stream",
          "text": [
            "Collecting opencv-contrib-python==4.7.0.72\n",
            "  Downloading opencv_contrib_python-4.7.0.72-cp37-abi3-manylinux_2_17_x86_64.manylinux2014_x86_64.whl.metadata (18 kB)\n",
            "Requirement already satisfied: numpy>=1.21.2 in /usr/local/lib/python3.11/dist-packages (from opencv-contrib-python==4.7.0.72) (2.0.2)\n",
            "Downloading opencv_contrib_python-4.7.0.72-cp37-abi3-manylinux_2_17_x86_64.manylinux2014_x86_64.whl (67.9 MB)\n",
            "\u001b[2K   \u001b[90m━━━━━━━━━━━━━━━━━━━━━━━━━━━━━━━━━━━━━━━━\u001b[0m \u001b[32m67.9/67.9 MB\u001b[0m \u001b[31m8.2 MB/s\u001b[0m eta \u001b[36m0:00:00\u001b[0m\n",
            "\u001b[?25hInstalling collected packages: opencv-contrib-python\n",
            "  Attempting uninstall: opencv-contrib-python\n",
            "    Found existing installation: opencv-contrib-python 4.11.0.86\n",
            "    Uninstalling opencv-contrib-python-4.11.0.86:\n",
            "      Successfully uninstalled opencv-contrib-python-4.11.0.86\n",
            "Successfully installed opencv-contrib-python-4.7.0.72\n"
          ]
        }
      ],
      "source": [
        "!pip install opencv-contrib-python==4.7.0.72"
      ]
    },
    {
      "cell_type": "code",
      "execution_count": null,
      "metadata": {
        "colab": {
          "base_uri": "https://localhost:8080/",
          "height": 425
        },
        "id": "fdMt85Yz4SQ9",
        "outputId": "c6c030a7-0ce8-4d21-9c9d-cc2dfbd82c8e"
      },
      "outputs": [
        {
          "name": "stdout",
          "output_type": "stream",
          "text": [
            "Collecting numpy==1.24.4\n",
            "  Downloading numpy-1.24.4-cp311-cp311-manylinux_2_17_x86_64.manylinux2014_x86_64.whl.metadata (5.6 kB)\n",
            "Downloading numpy-1.24.4-cp311-cp311-manylinux_2_17_x86_64.manylinux2014_x86_64.whl (17.3 MB)\n",
            "\u001b[2K   \u001b[90m━━━━━━━━━━━━━━━━━━━━━━━━━━━━━━━━━━━━━━━━\u001b[0m \u001b[32m17.3/17.3 MB\u001b[0m \u001b[31m36.5 MB/s\u001b[0m eta \u001b[36m0:00:00\u001b[0m\n",
            "\u001b[?25hInstalling collected packages: numpy\n",
            "  Attempting uninstall: numpy\n",
            "    Found existing installation: numpy 2.0.2\n",
            "    Uninstalling numpy-2.0.2:\n",
            "      Successfully uninstalled numpy-2.0.2\n",
            "\u001b[31mERROR: pip's dependency resolver does not currently take into account all the packages that are installed. This behaviour is the source of the following dependency conflicts.\n",
            "tensorflow 2.18.0 requires numpy<2.1.0,>=1.26.0, but you have numpy 1.24.4 which is incompatible.\n",
            "treescope 0.1.9 requires numpy>=1.25.2, but you have numpy 1.24.4 which is incompatible.\n",
            "jax 0.5.2 requires numpy>=1.25, but you have numpy 1.24.4 which is incompatible.\n",
            "blosc2 3.3.1 requires numpy>=1.26, but you have numpy 1.24.4 which is incompatible.\n",
            "jaxlib 0.5.1 requires numpy>=1.25, but you have numpy 1.24.4 which is incompatible.\n",
            "thinc 8.3.6 requires numpy<3.0.0,>=2.0.0, but you have numpy 1.24.4 which is incompatible.\n",
            "pymc 5.22.0 requires numpy>=1.25.0, but you have numpy 1.24.4 which is incompatible.\u001b[0m\u001b[31m\n",
            "\u001b[0mSuccessfully installed numpy-1.24.4\n"
          ]
        },
        {
          "data": {
            "application/vnd.colab-display-data+json": {
              "id": "f5979b78f4dd43cf8e5d08ca3ba69cb3",
              "pip_warning": {
                "packages": [
                  "numpy"
                ]
              }
            }
          },
          "metadata": {},
          "output_type": "display_data"
        }
      ],
      "source": [
        "!pip install numpy==1.24.4 --force-reinstall"
      ]
    },
    {
      "cell_type": "code",
      "execution_count": null,
      "metadata": {
        "id": "H2miRfjh4SLR"
      },
      "outputs": [],
      "source": [
        "import cv2\n",
        "import matplotlib.pyplot as plt\n",
        "import numpy as np\n",
        "import os\n",
        "import json\n",
        "import cv2\n",
        "from sklearn.cluster import DBSCAN"
      ]
    },
    {
      "cell_type": "code",
      "execution_count": null,
      "metadata": {
        "colab": {
          "base_uri": "https://localhost:8080/"
        },
        "id": "mVULkv806REb",
        "outputId": "efc87fcd-9e90-440e-dc47-30ec63c45bfa"
      },
      "outputs": [
        {
          "name": "stdout",
          "output_type": "stream",
          "text": [
            "Mounted at /content/drive\n"
          ]
        }
      ],
      "source": [
        "from google.colab import drive\n",
        "drive.mount('/content/drive')"
      ]
    },
    {
      "cell_type": "markdown",
      "source": [
        "SIFT and FREAK function to detect keypoints, match descriptors, select bounding box and generate binary mask.\n"
      ],
      "metadata": {
        "id": "nkKQeK0xKSdv"
      }
    },
    {
      "cell_type": "code",
      "execution_count": null,
      "metadata": {
        "id": "JnDlY-2fE6HQ"
      },
      "outputs": [],
      "source": [
        "def sift_freak(gray_image, forged_image):\n",
        "    # === Feature Detection and Description ===\n",
        "\n",
        "    # -- SIFT feature detection and descriptor extraction\n",
        "    sift = cv2.SIFT_create(contrastThreshold=0.01, edgeThreshold=5, sigma=0.7)\n",
        "    kp_sift, des_sift = sift.detectAndCompute(gray_image, None)\n",
        "\n",
        "    # -- STAR keypoint detector + FREAK descriptor extractor\n",
        "    star = cv2.xfeatures2d.StarDetector_create()\n",
        "    freak = cv2.xfeatures2d.FREAK_create()\n",
        "    kp_freak = star.detect(gray_image, None)\n",
        "    kp_freak, des_freak = freak.compute(gray_image, kp_freak)\n",
        "\n",
        "    # === Feature Matching ===\n",
        "\n",
        "    # -- Match SIFT descriptors using L2 norm\n",
        "    bf_sift = cv2.BFMatcher(cv2.NORM_L2, crossCheck=False)\n",
        "    matches_sift = bf_sift.knnMatch(des_sift, des_sift, k=2)\n",
        "\n",
        "    # -- Filter SIFT matches using Lowe's ratio test\n",
        "    good_sift = []\n",
        "    for m, n in matches_sift:\n",
        "        if m.distance < 0.95 * n.distance and m.queryIdx != m.trainIdx:\n",
        "            good_sift.append(m)\n",
        "\n",
        "    # -- Fallback if not enough good SIFT matches\n",
        "    if len(good_sift) < 10:\n",
        "        matches = bf_sift.match(des_sift, des_sift)\n",
        "        good_sift = [m for m in matches if m.queryIdx != m.trainIdx]\n",
        "        good_sift = sorted(good_sift, key=lambda x: x.distance)\n",
        "\n",
        "    # -- Match FREAK descriptors using Hamming distance\n",
        "    bf_freak = cv2.BFMatcher(cv2.NORM_HAMMING)\n",
        "    matches_freak = bf_freak.knnMatch(des_freak, des_freak, k=2)\n",
        "\n",
        "    # -- Filter FREAK matches with ratio test\n",
        "    good_freak = []\n",
        "    for pair in matches_freak:\n",
        "        if len(pair) == 2:\n",
        "            m, n = pair\n",
        "            if m.distance < 0.8 * n.distance and m.queryIdx != m.trainIdx:\n",
        "                good_freak.append(m)\n",
        "\n",
        "    # === Combine Keypoints and Matches ===\n",
        "\n",
        "    # -- Merge SIFT and FREAK keypoints\n",
        "    all_keypoints = kp_sift + kp_freak\n",
        "\n",
        "    # -- Adjust indices for FREAK matches (to reflect position in combined keypoints)\n",
        "    offset = len(kp_sift)\n",
        "    adjusted_freak = [\n",
        "        cv2.DMatch(_queryIdx=m.queryIdx + offset, _trainIdx=m.trainIdx + offset, _distance=m.distance)\n",
        "        for m in good_freak\n",
        "    ]\n",
        "\n",
        "    # -- Combine both SIFT and adjusted FREAK matches\n",
        "    all_matches = good_sift + adjusted_freak\n",
        "\n",
        "    # -- Extract matched point coordinates from keypoints\n",
        "    query_pts_2 = np.array([all_keypoints[m.queryIdx].pt for m in all_matches], dtype=np.int32)\n",
        "    train_pts_2 = np.array([all_keypoints[m.trainIdx].pt for m in all_matches], dtype=np.int32)\n",
        "\n",
        "    # === Create Binary Mask of Forged Regions ===\n",
        "\n",
        "    # Step 1: Initialize an empty binary mask (black image)\n",
        "    binary_filled_mask = np.zeros(forged_image.shape[:2], dtype=np.uint8)\n",
        "\n",
        "    # Step 2: Cluster and fill regions of copied areas (from query points)\n",
        "    if len(query_pts_2) >= 2:\n",
        "        db_query = DBSCAN(eps=30, min_samples=3).fit(query_pts_2)\n",
        "        query_labels = db_query.labels_\n",
        "        for label in set(query_labels):\n",
        "            if label == -1:\n",
        "                continue  # Ignore noise points\n",
        "            cluster_points = np.int32(query_pts_2[query_labels == label])\n",
        "            x, y, w, h = cv2.boundingRect(cluster_points)\n",
        "            cv2.rectangle(binary_filled_mask, (x, y), (x + w, y + h), 255, thickness=cv2.FILLED)\n",
        "\n",
        "    # Step 3: Cluster and fill regions of pasted areas (from train points)\n",
        "    if len(train_pts_2) >= 2:\n",
        "        db_train = DBSCAN(eps=30, min_samples=3).fit(train_pts_2)\n",
        "        train_labels = db_train.labels_\n",
        "        for label in set(train_labels):\n",
        "            if label == -1:\n",
        "                continue  # Ignore noise points\n",
        "            cluster_points = np.int32(train_pts_2[train_labels == label])\n",
        "            x, y, w, h = cv2.boundingRect(cluster_points)\n",
        "            cv2.rectangle(binary_filled_mask, (x, y), (x + w, y + h), 255, thickness=cv2.FILLED)\n",
        "\n",
        "    # Return the final binary mask highlighting the detected forged regions\n",
        "    return binary_filled_mask\n"
      ]
    },
    {
      "cell_type": "code",
      "execution_count": null,
      "metadata": {
        "colab": {
          "background_save": true,
          "base_uri": "https://localhost:8080/"
        },
        "id": "BSMYpLzYwCwu",
        "outputId": "77f31c20-6555-48c2-b44e-61d296beb95b"
      },
      "outputs": [
        {
          "name": "stdout",
          "output_type": "stream",
          "text": [
            "100: No forgery detected.\n",
            "101: No forgery detected.\n",
            "102: No forgery detected.\n",
            "103: No forgery detected.\n",
            "104: No forgery detected.\n",
            "105: No forgery detected.\n",
            "106: No forgery detected.\n",
            "107: No forgery detected.\n",
            "108: No forgery detected.\n",
            "109: No forgery detected.\n",
            "110: No forgery detected.\n",
            "Saved binary mask: /content/drive/MyDrive/CoMoFoD_small_v2/binary_mask/111_bin.png\n",
            "112: No forgery detected.\n",
            "113: No forgery detected.\n",
            "114: No forgery detected.\n",
            "115: No forgery detected.\n",
            "116: No forgery detected.\n",
            "117: No forgery detected.\n",
            "118: No forgery detected.\n",
            "119: No forgery detected.\n",
            "120: No forgery detected.\n",
            "121: No forgery detected.\n",
            "122: No forgery detected.\n",
            "123: No forgery detected.\n",
            "124: No forgery detected.\n",
            "125: No forgery detected.\n",
            "126: No forgery detected.\n",
            "127: No forgery detected.\n",
            "128: No forgery detected.\n",
            "129: No forgery detected.\n",
            "130: No forgery detected.\n",
            "131: No forgery detected.\n",
            "132: No forgery detected.\n",
            "133: No forgery detected.\n",
            "134: No forgery detected.\n",
            "135: No forgery detected.\n",
            "136: No forgery detected.\n",
            "137: No forgery detected.\n",
            "138: No forgery detected.\n",
            "139: No forgery detected.\n",
            "140: No forgery detected.\n",
            "141: No forgery detected.\n",
            "142: No forgery detected.\n",
            "143: No forgery detected.\n",
            "144: No forgery detected.\n",
            "145: No forgery detected.\n",
            "146: No forgery detected.\n",
            "147: No forgery detected.\n",
            "148: No forgery detected.\n",
            "149: No forgery detected.\n",
            "150: No forgery detected.\n",
            "151: No forgery detected.\n",
            "152: No forgery detected.\n",
            "153: No forgery detected.\n",
            "154: No forgery detected.\n",
            "155: No forgery detected.\n",
            "156: No forgery detected.\n",
            "157: No forgery detected.\n",
            "158: No forgery detected.\n",
            "159: No forgery detected.\n",
            "160: No forgery detected.\n",
            "161: No forgery detected.\n",
            "162: No forgery detected.\n",
            "163: No forgery detected.\n",
            "164: No forgery detected.\n",
            "165: No forgery detected.\n",
            "166: No forgery detected.\n",
            "167: No forgery detected.\n",
            "168: No forgery detected.\n",
            "169: No forgery detected.\n",
            "Saved binary mask: /content/drive/MyDrive/CoMoFoD_small_v2/binary_mask/170_bin.png\n",
            "171: No forgery detected.\n",
            "172: No forgery detected.\n",
            "173: No forgery detected.\n",
            "174: No forgery detected.\n",
            "175: No forgery detected.\n",
            "176: No forgery detected.\n",
            "Saved binary mask: /content/drive/MyDrive/CoMoFoD_small_v2/binary_mask/177_bin.png\n",
            "178: No forgery detected.\n",
            "179: No forgery detected.\n",
            "180: No forgery detected.\n",
            "181: No forgery detected.\n",
            "182: No forgery detected.\n",
            "183: No forgery detected.\n",
            "184: No forgery detected.\n",
            "185: No forgery detected.\n",
            "Saved binary mask: /content/drive/MyDrive/CoMoFoD_small_v2/binary_mask/186_bin.png\n",
            "187: No forgery detected.\n",
            "188: No forgery detected.\n",
            "189: No forgery detected.\n",
            "190: No forgery detected.\n",
            "Saved binary mask: /content/drive/MyDrive/CoMoFoD_small_v2/binary_mask/191_bin.png\n",
            "192: No forgery detected.\n",
            "193: No forgery detected.\n",
            "194: No forgery detected.\n",
            "195: No forgery detected.\n",
            "196: No forgery detected.\n",
            "197: No forgery detected.\n",
            "198: No forgery detected.\n",
            "199: No forgery detected.\n",
            "200: No forgery detected.\n"
          ]
        }
      ],
      "source": [
        "# Directory containing the images\n",
        "images_dir = \"/content/drive/MyDrive/CoMoFoD_small_v2\"\n",
        "\n",
        "# Output directory where binary masks will be saved\n",
        "images_out_dir = \"/content/drive/MyDrive/CoMoFoD_small_v2/binary_mask\"\n",
        "os.makedirs(images_out_dir, exist_ok=True)  # Create the directory if it doesn't exist\n",
        "\n",
        "# Loop through a range of image indices\n",
        "for start_index in range(1, 201):\n",
        "    # Format index to match file naming convention (e.g., 100 -> \"100\")\n",
        "    file_id = f\"{start_index:03d}\"\n",
        "    forged_path = f\"{images_dir}/{file_id}_F.png\"  # Path to forged image\n",
        "\n",
        "    # Load the forged image\n",
        "    forged = cv2.imread(forged_path)\n",
        "    if forged is None:\n",
        "        print(f\"Error loading image: {forged_path}\")\n",
        "        continue  # Skip to next iteration if image not found\n",
        "\n",
        "    # Convert forged image to grayscale\n",
        "    forged_gray = cv2.cvtColor(forged, cv2.COLOR_BGR2GRAY)\n",
        "\n",
        "    # Resize the forged image and grayscale version to 512x512\n",
        "    forged = cv2.resize(forged, (512, 512))\n",
        "    forged_gray = cv2.resize(forged_gray, (512, 512))\n",
        "\n",
        "    # Apply Laplacian filter to enhance edges\n",
        "    lap = cv2.Laplacian(forged_gray, cv2.CV_64F, ksize=3)\n",
        "    lap = cv2.convertScaleAbs(lap)\n",
        "\n",
        "    # Sharpen the grayscale image using the Laplacian result\n",
        "    sharpened = cv2.addWeighted(forged_gray, 1.6, lap, -0.6, 0)\n",
        "\n",
        "    # Improve contrast/brightness\n",
        "    enhanced = cv2.convertScaleAbs(sharpened, alpha=1, beta=30)\n",
        "\n",
        "    # Apply histogram equalization to normalize brightness and contrast\n",
        "    C_combined_image = cv2.equalizeHist(enhanced)\n",
        "\n",
        "    # Detect forgery using SIFT+FREAK pipeline (assumed custom function)\n",
        "    binary_filled_mask = sift_freak(C_combined_image, forged)\n",
        "\n",
        "    # If no forgery detected (all zeros), print message and skip saving\n",
        "    if np.sum(binary_filled_mask) == 0:\n",
        "        print(f\"{file_id}: No forgery detected.\")\n",
        "        continue\n",
        "\n",
        "    # Convert binary mask (0/1) to uint8 format (0/255) for saving\n",
        "    binary_mask_uint8 = (binary_filled_mask * 255).astype(np.uint8)\n",
        "\n",
        "    # Construct path and save the binary mask image\n",
        "    mask_path = os.path.join(images_out_dir, f\"{file_id}_bin.png\")\n",
        "    cv2.imwrite(mask_path, binary_mask_uint8)\n",
        "    print(f\"Saved binary mask: {mask_path}\")\n"
      ]
    },
    {
      "cell_type": "code",
      "execution_count": null,
      "metadata": {
        "colab": {
          "background_save": true
        },
        "id": "ClXcwQgUIzFS",
        "outputId": "4ac398a9-d70c-4a39-f839-e5e9fbdd0131"
      },
      "outputs": [
        {
          "data": {
            "image/png": "[encoded data removed]",
            "text/plain": [
              "<Figure size 640x480 with 1 Axes>"
            ]
          },
          "metadata": {},
          "output_type": "display_data"
        }
      ],
      "source": [
        "plt.imshow(binary_mask_uint8, cmap='gray')\n",
        "plt.title(\"Binary Mask (0/1)\")\n",
        "plt.axis('off')\n",
        "plt.show()\n"
      ]
    },
    {
      "cell_type": "markdown",
      "source": [
        "Load the binary mask"
      ],
      "metadata": {
        "id": "M0-plO71K_MX"
      }
    },
    {
      "cell_type": "code",
      "execution_count": null,
      "metadata": {
        "colab": {
          "background_save": true
        },
        "id": "qhYSjZJIeZaQ",
        "outputId": "47a3c203-0978-4f8e-f97f-fa865be34379"
      },
      "outputs": [
        {
          "data": {
            "image/png": "[encoded data removed]",
            "text/plain": [
              "<Figure size 640x480 with 1 Axes>"
            ]
          },
          "metadata": {},
          "output_type": "display_data"
        }
      ],
      "source": [
        "import cv2\n",
        "import matplotlib.pyplot as plt\n",
        "\n",
        "# Load the saved binary mask\n",
        "mask_path = \"/content/drive/MyDrive/CoMoFoD_small_v2/binary_mask/039_bin.png\"\n",
        "loaded_mask = cv2.imread(mask_path, cv2.IMREAD_GRAYSCALE)\n",
        "\n",
        "# Optional: Convert to binary (0 or 1) if needed for logic\n",
        "binary_mask = (loaded_mask > 128).astype(np.uint8)\n",
        "\n",
        "# Visualize\n",
        "plt.imshow(loaded_mask, cmap='gray')\n",
        "plt.title(\"Loaded Binary Mask\")\n",
        "plt.axis('off')\n",
        "plt.show()"
      ]
    }
  ],
  "metadata": {
    "colab": {
      "provenance": []
    },
    "kernelspec": {
      "display_name": "Python 3",
      "name": "python3"
    },
    "language_info": {
      "name": "python"
    }
  },
  "nbformat": 4,
  "nbformat_minor": 0
}